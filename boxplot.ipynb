{
 "cells": [
  {
   "cell_type": "code",
   "execution_count": 1,
   "metadata": {},
   "outputs": [],
   "source": [
    "import os\n",
    "import numpy as np \n",
    "from matplotlib import pyplot as plt"
   ]
  },
  {
   "cell_type": "code",
   "execution_count": 2,
   "metadata": {},
   "outputs": [],
   "source": [
    "boxplots_path = 'boxplots/'\n",
    "\n",
    "if not os.path.exists(boxplots_path):\n",
    "    os.makedirs(boxplots_path)"
   ]
  },
  {
   "cell_type": "markdown",
   "metadata": {},
   "source": [
    "## Macro Average AUPRC:"
   ]
  },
  {
   "cell_type": "code",
   "execution_count": 22,
   "metadata": {},
   "outputs": [],
   "source": [
    "collectn_1 = np.array([0.90972702, 0.9133156, 0.91313176, 0.90866549, 0.91261822, 0.9086839, 0.90638458,\n",
    "                       0.91076192, 0.90902269, 0.90648776, 0.90969145, 0.9095146, 0.90701055, 0.90651679,\n",
    "                       0.90453403, 0.907403, 0.90535707, 0.9075079, 0.9070497, 0.90596576,\n",
    "                      ])\n",
    "\n",
    "collectn_2 = np.array([0.90742752, 0.91043016, 0.90981474, 0.90561832, 0.90957849, 0.90612942, 0.90288385,\n",
    "                       0.90761684, 0.90629358, 0.90306599, 0.90732507, 0.90672582, 0.90534674, 0.90337073,\n",
    "                       0.89978966, 0.90574173, 0.90236883, 0.90496031, 0.90358582, 0.90283607,\n",
    "                      ])\n",
    "\n",
    "collectn_3 = np.array([0.90578519, 0.90919576, 0.90840327, 0.90406595, 0.90759729, 0.90461338, 0.90267681,\n",
    "                       0.90668475, 0.90438096, 0.90202135, 0.90572436, 0.90535382, 0.90439583, 0.90095735,\n",
    "                       0.89779059, 0.90429377, 0.9007351, 0.90303364, 0.90265635, 0.90141684,\n",
    "                      ])\n",
    "\n",
    "collectn_4 = np.array([0.9039187, 0.90751091, 0.9061071, 0.9028338, 0.90613041, 0.90347919, 0.90041958,\n",
    "                       0.90478701, 0.90326236, 0.90154326, 0.90360577, 0.90418609, 0.90333018, 0.90016051,\n",
    "                       0.89712229, 0.90334206, 0.89914805, 0.90152182, 0.90128874, 0.89996353,\n",
    "                      ])\n",
    "\n",
    "collectn_5 = np.array([0.9001964, 0.9038537, 0.90327216, 0.9000659, 0.90338997, 0.90030804, 0.89752988,\n",
    "                       0.90193495, 0.90059444, 0.89762523, 0.90100334, 0.89959269, 0.89978112, 0.89615458,\n",
    "                       0.8935721, 0.9002758, 0.89609536, 0.8991943, 0.89705317, 0.89659056,\n",
    "                      ])\n",
    "\n",
    "collectn_6 = np.array([0.89623715, 0.90039549, 0.89966906, 0.89435843, 0.89730431, 0.89444834, 0.89239487,\n",
    "                       0.89806444, 0.89398916, 0.89240934, 0.89474626, 0.8950609, 0.89395247, 0.89107619,\n",
    "                       0.88648942, 0.89386752, 0.89098292, 0.89301184, 0.89234799, 0.89123088,\n",
    "                      ])\n",
    "\n",
    "## combine these different collections into a list    \n",
    "data_to_plot = [collectn_1, collectn_2, collectn_3, collectn_4, collectn_5, collectn_6]"
   ]
  },
  {
   "cell_type": "code",
   "execution_count": 23,
   "metadata": {},
   "outputs": [
    {
     "name": "stdout",
     "output_type": "stream",
     "text": [
      "Mean and std of Macro Average AUPRC for patch size 5*6 are: 0.90847 and 0.00247\n",
      "Mean and std of Macro Average AUPRC for patch size 16*19 are: 0.90555 and 0.00269\n",
      "Mean and std of Macro Average AUPRC for patch size 27*32 are: 0.90409 and 0.00273\n",
      "Mean and std of Macro Average AUPRC for patch size 38*46 are: 0.90268 and 0.0025\n",
      "Mean and std of Macro Average AUPRC for patch size 49*59 are: 0.8994 and 0.00264\n",
      "Mean and std of Macro Average AUPRC for patch size 60*72 are: 0.8941 and 0.00315\n"
     ]
    }
   ],
   "source": [
    "mean_1, std_1 = np.mean(collectn_1), np.std(collectn_1)\n",
    "print (\"Mean and std of Macro Average AUPRC for patch size 5*6 are: {} and {}\".format(round(mean_1,5), round(std_1,5)))\n",
    "\n",
    "mean_2, std_2 = np.mean(collectn_2), np.std(collectn_2)\n",
    "print (\"Mean and std of Macro Average AUPRC for patch size 16*19 are: {} and {}\".format(round(mean_2,5), round(std_2,5)))\n",
    "\n",
    "mean_3, std_3 = np.mean(collectn_3), np.std(collectn_3)\n",
    "print (\"Mean and std of Macro Average AUPRC for patch size 27*32 are: {} and {}\".format(round(mean_3,5), round(std_3,5)))\n",
    "\n",
    "mean_4, std_4 = np.mean(collectn_4), np.std(collectn_4)\n",
    "print (\"Mean and std of Macro Average AUPRC for patch size 38*46 are: {} and {}\".format(round(mean_4,5), round(std_4,5)))\n",
    "\n",
    "mean_5, std_5 = np.mean(collectn_5), np.std(collectn_5)\n",
    "print (\"Mean and std of Macro Average AUPRC for patch size 49*59 are: {} and {}\".format(round(mean_5,5), round(std_5,5)))\n",
    "\n",
    "mean_6, std_6 = np.mean(collectn_6), np.std(collectn_6)\n",
    "print (\"Mean and std of Macro Average AUPRC for patch size 60*72 are: {} and {}\".format(round(mean_6,5), round(std_6,5)))"
   ]
  },
  {
   "cell_type": "code",
   "execution_count": 24,
   "metadata": {},
   "outputs": [
    {
     "data": {
      "image/png": "[encoded data removed]",
      "text/plain": [
       "<Figure size 648x432 with 1 Axes>"
      ]
     },
     "metadata": {
      "needs_background": "light"
     },
     "output_type": "display_data"
    }
   ],
   "source": [
    "fig = plt.figure(1, figsize=(9, 6))\n",
    "\n",
    "# Create an axes instance\n",
    "ax = fig.add_subplot(111)\n",
    "\n",
    "# Create the boxplot\n",
    "bp = ax.boxplot(data_to_plot)\n",
    "\n",
    "## add patch_artist=True option to ax.boxplot() \n",
    "## to get fill color\n",
    "bp = ax.boxplot(data_to_plot, patch_artist=True)\n",
    "\n",
    "## change outline color, fill color and linewidth of the boxes\n",
    "for box in bp['boxes']:\n",
    "    # change outline color\n",
    "    box.set( color='#7570b3', linewidth=2)\n",
    "    # change fill color\n",
    "    box.set( facecolor = '#1b9e77' )\n",
    "\n",
    "## change color and linewidth of the whiskers\n",
    "for whisker in bp['whiskers']:\n",
    "    whisker.set(color='#7570b3', linewidth=2)\n",
    "\n",
    "## change color and linewidth of the caps\n",
    "for cap in bp['caps']:\n",
    "    cap.set(color='#7570b3', linewidth=2)\n",
    "\n",
    "## change color and linewidth of the medians\n",
    "for median in bp['medians']:\n",
    "    median.set(color='#b2df8a', linewidth=2)\n",
    "\n",
    "## change the style of fliers and their fill\n",
    "for flier in bp['fliers']:\n",
    "    flier.set(marker='o', color='#e7298a', alpha=0.5)\n",
    "    \n",
    "ax.set_xticklabels(['5*6', '16*19', '27*32', '38*46', '49*59', '60*72'])\n",
    "ax.get_xaxis().tick_bottom()\n",
    "ax.get_yaxis().tick_left()\n",
    "ax.set_xlabel('Stride')\n",
    "ax.set_ylabel('Macro Average AUPRC')\n",
    "ax.set_title('Boxplots of Macro Average AUPRC for each Stride')\n",
    "\n",
    "# Save the figure\n",
    "fig.show()\n",
    "fig.savefig(boxplots_path + 'boxplots_macro_AUPRC.png', bbox_inches='tight')"
   ]
  },
  {
   "cell_type": "markdown",
   "metadata": {},
   "source": [
    "## Micro Average AUPRC:"
   ]
  },
  {
   "cell_type": "code",
   "execution_count": 25,
   "metadata": {},
   "outputs": [],
   "source": [
    "collectn_1 = np.array([0.99822418, 0.99834517, 0.99832133, 0.9982894, 0.99832136, 0.99824113, 0.99813746,\n",
    "                       0.99831442, 0.99824571, 0.99823571, 0.99825353, 0.99829431, 0.99822119, 0.99825238,\n",
    "                       0.9981433, 0.99821389, 0.99813365, 0.99818086, 0.99820557, 0.99813441,\n",
    "                      ])\n",
    "\n",
    "collectn_2 = np.array([0.99809942, 0.99822605, 0.9982075, 0.9982038, 0.9981663, 0.99814955, 0.99802863,\n",
    "                       0.99822056, 0.99814367, 0.99813924, 0.99814741, 0.99822542, 0.99816279, 0.99813863,\n",
    "                       0.99798406, 0.9981665, 0.99802527, 0.99808652, 0.99810117, 0.99798484,\n",
    "                      ])\n",
    "\n",
    "collectn_3 = np.array([0.99802821, 0.9981706, 0.99811999, 0.99816176, 0.99807738, 0.99809982, 0.997999,\n",
    "                       0.99820006, 0.99806945, 0.99811188, 0.99806174, 0.9981767, 0.99812442, 0.99808561,\n",
    "                       0.99792118, 0.99812409, 0.99796009, 0.99803608, 0.99806517, 0.99791997,\n",
    "                      ])\n",
    "\n",
    "collectn_4 = np.array([0.99802431, 0.99814874, 0.99809224, 0.99814431, 0.99807909, 0.99808267, 0.99796651,\n",
    "                       0.99816494, 0.99807065, 0.9981177, 0.99803155, 0.99817478, 0.99811252, 0.99808238,\n",
    "                       0.99792387, 0.99811692, 0.99791893, 0.99802571, 0.99805281, 0.99791316,\n",
    "                      ])\n",
    "\n",
    "collectn_5 = np.array([0.99792568, 0.99806772, 0.99801817, 0.99810549, 0.99800811, 0.99803182, 0.997913,\n",
    "                       0.99810503, 0.99798714, 0.99805019, 0.99796007, 0.99808623, 0.99805929, 0.99802348,\n",
    "                       0.99785238, 0.99806737, 0.99787521, 0.99798889, 0.99798634, 0.99786147,\n",
    "                      ])\n",
    "\n",
    "collectn_6 = np.array([0.9978591, 0.99802257, 0.99795893, 0.99797699, 0.99788177, 0.99791484, 0.99781928,\n",
    "                       0.99803359, 0.99785022, 0.9979476, 0.9978342, 0.99798741, 0.99794593, 0.99789826,\n",
    "                       0.99773529, 0.99794481, 0.99776287, 0.99785115, 0.99789305, 0.99775458,\n",
    "                      ])\n",
    "\n",
    "## combine these different collections into a list    \n",
    "data_to_plot = [collectn_1, collectn_2, collectn_3, collectn_4, collectn_5, collectn_6]"
   ]
  },
  {
   "cell_type": "code",
   "execution_count": 26,
   "metadata": {},
   "outputs": [
    {
     "name": "stdout",
     "output_type": "stream",
     "text": [
      "Mean and std of Micro Average AUPRC for patch size 5*6 are: 0.99824 and 6.46e-05\n",
      "Mean and std of Micro Average AUPRC for patch size 16*19 are: 0.99813 and 7.42e-05\n",
      "Mean and std of Micro Average AUPRC for patch size 27*32 are: 0.99808 and 7.82e-05\n",
      "Mean and std of Micro Average AUPRC for patch size 38*46 are: 0.99806 and 7.84e-05\n",
      "Mean and std of Micro Average AUPRC for patch size 49*59 are: 0.998 and 7.69e-05\n",
      "Mean and std of Micro Average AUPRC for patch size 60*72 are: 0.99789 and 8.38e-05\n"
     ]
    }
   ],
   "source": [
    "mean_1, std_1 = np.mean(collectn_1), np.std(collectn_1)\n",
    "print (\"Mean and std of Micro Average AUPRC for patch size 5*6 are: {} and {}\".format(round(mean_1,5), round(std_1,7)))\n",
    "\n",
    "mean_2, std_2 = np.mean(collectn_2), np.std(collectn_2)\n",
    "print (\"Mean and std of Micro Average AUPRC for patch size 16*19 are: {} and {}\".format(round(mean_2,5), round(std_2,7)))\n",
    "\n",
    "mean_3, std_3 = np.mean(collectn_3), np.std(collectn_3)\n",
    "print (\"Mean and std of Micro Average AUPRC for patch size 27*32 are: {} and {}\".format(round(mean_3,5), round(std_3,7)))\n",
    "\n",
    "mean_4, std_4 = np.mean(collectn_4), np.std(collectn_4)\n",
    "print (\"Mean and std of Micro Average AUPRC for patch size 38*46 are: {} and {}\".format(round(mean_4,5), round(std_4,7)))\n",
    "\n",
    "mean_5, std_5 = np.mean(collectn_5), np.std(collectn_5)\n",
    "print (\"Mean and std of Micro Average AUPRC for patch size 49*59 are: {} and {}\".format(round(mean_5,5), round(std_5,7)))\n",
    "\n",
    "mean_6, std_6 = np.mean(collectn_6), np.std(collectn_6)\n",
    "print (\"Mean and std of Micro Average AUPRC for patch size 60*72 are: {} and {}\".format(round(mean_6,5), round(std_6,7)))"
   ]
  },
  {
   "cell_type": "code",
   "execution_count": 27,
   "metadata": {},
   "outputs": [
    {
     "data": {
      "image/png": "[encoded data removed]",
      "text/plain": [
       "<Figure size 648x432 with 1 Axes>"
      ]
     },
     "metadata": {
      "needs_background": "light"
     },
     "output_type": "display_data"
    }
   ],
   "source": [
    "fig = plt.figure(1, figsize=(9, 6))\n",
    "\n",
    "# Create an axes instance\n",
    "ax = fig.add_subplot(111)\n",
    "\n",
    "# Create the boxplot\n",
    "bp = ax.boxplot(data_to_plot)\n",
    "\n",
    "## add patch_artist=True option to ax.boxplot() \n",
    "## to get fill color\n",
    "bp = ax.boxplot(data_to_plot, patch_artist=True)\n",
    "\n",
    "## change outline color, fill color and linewidth of the boxes\n",
    "for box in bp['boxes']:\n",
    "    # change outline color\n",
    "    box.set( color='#7570b3', linewidth=2)\n",
    "    # change fill color\n",
    "    box.set( facecolor = '#1b9e77' )\n",
    "\n",
    "## change color and linewidth of the whiskers\n",
    "for whisker in bp['whiskers']:\n",
    "    whisker.set(color='#7570b3', linewidth=2)\n",
    "\n",
    "## change color and linewidth of the caps\n",
    "for cap in bp['caps']:\n",
    "    cap.set(color='#7570b3', linewidth=2)\n",
    "\n",
    "## change color and linewidth of the medians\n",
    "for median in bp['medians']:\n",
    "    median.set(color='#b2df8a', linewidth=2)\n",
    "\n",
    "## change the style of fliers and their fill\n",
    "for flier in bp['fliers']:\n",
    "    flier.set(marker='o', color='#e7298a', alpha=0.5)\n",
    "    \n",
    "ax.set_xticklabels(['5*6', '16*19', '27*32', '38*46', '49*59', '60*72'])\n",
    "ax.get_xaxis().tick_bottom()\n",
    "ax.get_yaxis().tick_left()\n",
    "ax.set_xlabel('Stride')\n",
    "ax.set_ylabel('Micro Average AUPRC')\n",
    "ax.set_title('Boxplots of Micro Average AUPRC for each Stride')\n",
    "    \n",
    "# Save the figure\n",
    "fig.show()\n",
    "fig.savefig(boxplots_path + 'boxplots_micro_AUPRC.png', bbox_inches='tight')"
   ]
  },
  {
   "cell_type": "markdown",
   "metadata": {},
   "source": [
    "## AUPRC Artery:"
   ]
  },
  {
   "cell_type": "code",
   "execution_count": 28,
   "metadata": {},
   "outputs": [],
   "source": [
    "collectn_1 = np.array([0.85263289, 0.85660689, 0.8575366, 0.84851959, 0.85582053, 0.8495076, 0.84524725,\n",
    "                       0.85318934, 0.85061435, 0.84377262, 0.85292509, 0.84887837, 0.8493712, 0.8431098,\n",
    "                       0.83972756, 0.8497173, 0.84133867, 0.84802038, 0.84694437, 0.84762783,\n",
    "                      ])\n",
    "\n",
    "collectn_2 = np.array([0.84705224, 0.85102448, 0.85101863, 0.84338575, 0.85013763, 0.84467141, 0.8385332,\n",
    "                       0.84713689, 0.84587546, 0.83687915, 0.84796509, 0.84252384, 0.84580536, 0.83689737,\n",
    "                       0.83049546, 0.84636685, 0.83595782, 0.84308785, 0.83992713, 0.84179895,\n",
    "                      ])\n",
    "\n",
    "collectn_3 = np.array([0.84551829, 0.84971999, 0.84871488, 0.84036179, 0.84759797, 0.84190942, 0.83870468,\n",
    "                       0.84637518, 0.84260882, 0.83453454, 0.84670863, 0.84110602, 0.84442231, 0.83244505,\n",
    "                       0.82803873, 0.84440115, 0.83224937, 0.83981295, 0.83802076, 0.8395357,\n",
    "                      ])\n",
    "\n",
    "collectn_4 = np.array([0.84141112, 0.84675579, 0.84471426, 0.83850306, 0.84436481, 0.84010018, 0.83433089,\n",
    "                       0.84294049, 0.84015244, 0.83344256, 0.84227935, 0.83870552, 0.8422885, 0.83093745,\n",
    "                       0.82631774, 0.84254771, 0.83052311, 0.83727875, 0.83601673, 0.83726916,\n",
    "                      ])\n",
    "\n",
    "collectn_5 = np.array([0.8353517, 0.8406869, 0.84043895, 0.83291626, 0.83952033, 0.83547418, 0.8299834,\n",
    "                       0.8385932, 0.83640196, 0.82734153, 0.83797629, 0.83111474, 0.83574121, 0.82392784,\n",
    "                       0.82044523, 0.83727549, 0.82502007, 0.83341221, 0.82910163, 0.831423,\n",
    "                      ])\n",
    "\n",
    "collectn_6 = np.array([0.82866831, 0.83377566, 0.83305874, 0.82433116, 0.83008476, 0.82357586, 0.82130008,\n",
    "                       0.83024226, 0.82440005, 0.81781006, 0.8258989, 0.82330702, 0.82656592, 0.81484357,\n",
    "                       0.80693819, 0.82674091, 0.81564689, 0.82189406, 0.82120795, 0.82167628,\n",
    "                      ])\n",
    "\n",
    "## combine these different collections into a list    \n",
    "data_to_plot = [collectn_1, collectn_2, collectn_3, collectn_4, collectn_5, collectn_6]"
   ]
  },
  {
   "cell_type": "code",
   "execution_count": 29,
   "metadata": {},
   "outputs": [
    {
     "name": "stdout",
     "output_type": "stream",
     "text": [
      "Mean and std of AUPRC of Artery for patch size 5*6 are: 0.84906 and 0.00477\n",
      "Mean and std of AUPRC of Artery for patch size 16*19 are: 0.84333 and 0.00538\n",
      "Mean and std of AUPRC of Artery for patch size 27*32 are: 0.84114 and 0.00577\n",
      "Mean and std of AUPRC of Artery for patch size 38*46 are: 0.83854 and 0.0052\n",
      "Mean and std of AUPRC of Artery for patch size 49*59 are: 0.83311 and 0.0056\n",
      "Mean and std of AUPRC of Artery for patch size 60*72 are: 0.8236 and 0.00632\n"
     ]
    }
   ],
   "source": [
    "mean_1, std_1 = np.mean(collectn_1), np.std(collectn_1)\n",
    "print (\"Mean and std of AUPRC of Artery for patch size 5*6 are: {} and {}\".format(round(mean_1,5), round(std_1,5)))\n",
    "\n",
    "mean_2, std_2 = np.mean(collectn_2), np.std(collectn_2)\n",
    "print (\"Mean and std of AUPRC of Artery for patch size 16*19 are: {} and {}\".format(round(mean_2,5), round(std_2,5)))\n",
    "\n",
    "mean_3, std_3 = np.mean(collectn_3), np.std(collectn_3)\n",
    "print (\"Mean and std of AUPRC of Artery for patch size 27*32 are: {} and {}\".format(round(mean_3,5), round(std_3,5)))\n",
    "\n",
    "mean_4, std_4 = np.mean(collectn_4), np.std(collectn_4)\n",
    "print (\"Mean and std of AUPRC of Artery for patch size 38*46 are: {} and {}\".format(round(mean_4,5), round(std_4,5)))\n",
    "\n",
    "mean_5, std_5 = np.mean(collectn_5), np.std(collectn_5)\n",
    "print (\"Mean and std of AUPRC of Artery for patch size 49*59 are: {} and {}\".format(round(mean_5,5), round(std_5,5)))\n",
    "\n",
    "mean_6, std_6 = np.mean(collectn_6), np.std(collectn_6)\n",
    "print (\"Mean and std of AUPRC of Artery for patch size 60*72 are: {} and {}\".format(round(mean_6,5), round(std_6,5)))"
   ]
  },
  {
   "cell_type": "code",
   "execution_count": 30,
   "metadata": {},
   "outputs": [
    {
     "data": {
      "image/png": "[encoded data removed]",
      "text/plain": [
       "<Figure size 648x432 with 1 Axes>"
      ]
     },
     "metadata": {
      "needs_background": "light"
     },
     "output_type": "display_data"
    }
   ],
   "source": [
    "fig = plt.figure(1, figsize=(9, 6))\n",
    "\n",
    "# Create an axes instance\n",
    "ax = fig.add_subplot(111)\n",
    "\n",
    "# Create the boxplot\n",
    "bp = ax.boxplot(data_to_plot)\n",
    "\n",
    "## add patch_artist=True option to ax.boxplot() \n",
    "## to get fill color\n",
    "bp = ax.boxplot(data_to_plot, patch_artist=True)\n",
    "\n",
    "## change outline color, fill color and linewidth of the boxes\n",
    "for box in bp['boxes']:\n",
    "    # change outline color\n",
    "    box.set( color='#7570b3', linewidth=2)\n",
    "    # change fill color\n",
    "    box.set( facecolor = '#1b9e77' )\n",
    "\n",
    "## change color and linewidth of the whiskers\n",
    "for whisker in bp['whiskers']:\n",
    "    whisker.set(color='#7570b3', linewidth=2)\n",
    "\n",
    "## change color and linewidth of the caps\n",
    "for cap in bp['caps']:\n",
    "    cap.set(color='#7570b3', linewidth=2)\n",
    "\n",
    "## change color and linewidth of the medians\n",
    "for median in bp['medians']:\n",
    "    median.set(color='#b2df8a', linewidth=2)\n",
    "\n",
    "## change the style of fliers and their fill\n",
    "for flier in bp['fliers']:\n",
    "    flier.set(marker='o', color='#e7298a', alpha=0.5)\n",
    "    \n",
    "ax.set_xticklabels(['5*6', '16*19', '27*32', '38*46', '49*59', '60*72'])\n",
    "ax.get_xaxis().tick_bottom()\n",
    "ax.get_yaxis().tick_left()\n",
    "ax.set_xlabel('Stride')\n",
    "ax.set_ylabel('AUPRC for Artery')\n",
    "ax.set_title('Boxplots of Artery AUPRC for each Stride')\n",
    "    \n",
    "# Save the figure\n",
    "fig.show()\n",
    "fig.savefig(boxplots_path + 'boxplots_artery_AUPRC.png', bbox_inches='tight')"
   ]
  },
  {
   "cell_type": "markdown",
   "metadata": {},
   "source": [
    "## AUPRC Background:"
   ]
  },
  {
   "cell_type": "code",
   "execution_count": 31,
   "metadata": {},
   "outputs": [],
   "source": [
    "collectn_1 = np.array([0.99957504, 0.99962434, 0.99960512, 0.99960766, 0.9996137, 0.99958498, 0.99956065,\n",
    "                       0.99961393, 0.99959431, 0.99960667, 0.99959092, 0.9996098, 0.99959561, 0.99960617,\n",
    "                       0.99956353, 0.99958814, 0.99953762, 0.9995655, 0.99957572, 0.99955544,\n",
    "                      ])\n",
    "\n",
    "collectn_2 = np.array([0.99950866, 0.99958269, 0.99956117, 0.99958634, 0.99954179, 0.99954702, 0.99952659,\n",
    "                       0.99958393, 0.99955781, 0.99958084, 0.99954869, 0.99959623, 0.99957695, 0.99956334,\n",
    "                       0.99950568, 0.99957569, 0.99949522, 0.99952596, 0.99954006, 0.99948634,\n",
    "                      ])\n",
    "\n",
    "collectn_3 = np.array([0.99948281, 0.99956087, 0.99952113, 0.9995681, 0.99950396, 0.99952841, 0.99951046,\n",
    "                       0.99957912, 0.99952224, 0.99956956, 0.99951053, 0.99958041, 0.99956008, 0.99954267,\n",
    "                       0.99948307, 0.9995595, 0.99946885, 0.99950777, 0.99952367, 0.9994556,\n",
    "                      ])\n",
    "\n",
    "collectn_4 = np.array([0.99949523, 0.99955862, 0.99952335, 0.99957066, 0.99951785, 0.99952844, 0.99950569,\n",
    "                       0.99957378, 0.99953036, 0.99957708, 0.99950852, 0.9995863, 0.9995649, 0.9995532,\n",
    "                       0.99949259, 0.99956402, 0.99945756, 0.9995126, 0.99952732, 0.99946412,\n",
    "                      ])\n",
    "\n",
    "collectn_5 = np.array([0.99946235, 0.9995322, 0.99949618, 0.99955911, 0.99949323, 0.99951455, 0.99948852,\n",
    "                       0.99955131, 0.99949782, 0.99955794, 0.99948598, 0.99956272, 0.99955055, 0.99953794,\n",
    "                       0.99947131, 0.99955306, 0.99945373, 0.99949917, 0.99951075, 0.99945456,\n",
    "                      ])\n",
    "\n",
    "collectn_6 = np.array([0.99945285, 0.99953436, 0.99948452, 0.9995253, 0.99946124, 0.99948658, 0.99947443,\n",
    "                       0.99953863, 0.99946298, 0.9995371, 0.99945807, 0.99953713, 0.99952795, 0.99949957,\n",
    "                       0.99944714, 0.99952616, 0.9994221, 0.99945788, 0.99949079, 0.99942927,\n",
    "                      ])\n",
    "\n",
    "## combine these different collections into a list    \n",
    "data_to_plot = [collectn_1, collectn_2, collectn_3, collectn_4, collectn_5, collectn_6]"
   ]
  },
  {
   "cell_type": "code",
   "execution_count": 32,
   "metadata": {},
   "outputs": [
    {
     "name": "stdout",
     "output_type": "stream",
     "text": [
      "Mean and std of AUPRC of Background for patch size 5*6 are: 0.99959 and 2.28e-05\n",
      "Mean and std of AUPRC of Background for patch size 16*19 are: 0.99955 and 3.19e-05\n",
      "Mean and std of AUPRC of Background for patch size 27*32 are: 0.99953 and 3.64e-05\n",
      "Mean and std of AUPRC of Background for patch size 38*46 are: 0.99953 and 3.64e-05\n",
      "Mean and std of AUPRC of Background for patch size 49*59 are: 0.99951 and 3.59e-05\n",
      "Mean and std of AUPRC of Background for patch size 60*72 are: 0.99949 and 3.75e-05\n"
     ]
    }
   ],
   "source": [
    "mean_1, std_1 = np.mean(collectn_1), np.std(collectn_1)\n",
    "print (\"Mean and std of AUPRC of Background for patch size 5*6 are: {} and {}\".format(round(mean_1,5), round(std_1,7)))\n",
    "\n",
    "mean_2, std_2 = np.mean(collectn_2), np.std(collectn_2)\n",
    "print (\"Mean and std of AUPRC of Background for patch size 16*19 are: {} and {}\".format(round(mean_2,5), round(std_2,7)))\n",
    "\n",
    "mean_3, std_3 = np.mean(collectn_3), np.std(collectn_3)\n",
    "print (\"Mean and std of AUPRC of Background for patch size 27*32 are: {} and {}\".format(round(mean_3,5), round(std_3,7)))\n",
    "\n",
    "mean_4, std_4 = np.mean(collectn_4), np.std(collectn_4)\n",
    "print (\"Mean and std of AUPRC of Background for patch size 38*46 are: {} and {}\".format(round(mean_4,5), round(std_4,7)))\n",
    "\n",
    "mean_5, std_5 = np.mean(collectn_5), np.std(collectn_5)\n",
    "print (\"Mean and std of AUPRC of Background for patch size 49*59 are: {} and {}\".format(round(mean_5,5), round(std_5,7)))\n",
    "\n",
    "mean_6, std_6 = np.mean(collectn_6), np.std(collectn_6)\n",
    "print (\"Mean and std of AUPRC of Background for patch size 60*72 are: {} and {}\".format(round(mean_6,5), round(std_6,7)))"
   ]
  },
  {
   "cell_type": "code",
   "execution_count": 33,
   "metadata": {},
   "outputs": [
    {
     "data": {
      "image/png": "[encoded data removed]",
      "text/plain": [
       "<Figure size 648x432 with 1 Axes>"
      ]
     },
     "metadata": {
      "needs_background": "light"
     },
     "output_type": "display_data"
    }
   ],
   "source": [
    "fig = plt.figure(1, figsize=(9, 6))\n",
    "\n",
    "# Create an axes instance\n",
    "ax = fig.add_subplot(111)\n",
    "\n",
    "# Create the boxplot\n",
    "bp = ax.boxplot(data_to_plot)\n",
    "\n",
    "## add patch_artist=True option to ax.boxplot() \n",
    "## to get fill color\n",
    "bp = ax.boxplot(data_to_plot, patch_artist=True)\n",
    "\n",
    "## change outline color, fill color and linewidth of the boxes\n",
    "for box in bp['boxes']:\n",
    "    # change outline color\n",
    "    box.set( color='#7570b3', linewidth=2)\n",
    "    # change fill color\n",
    "    box.set( facecolor = '#1b9e77' )\n",
    "\n",
    "## change color and linewidth of the whiskers\n",
    "for whisker in bp['whiskers']:\n",
    "    whisker.set(color='#7570b3', linewidth=2)\n",
    "\n",
    "## change color and linewidth of the caps\n",
    "for cap in bp['caps']:\n",
    "    cap.set(color='#7570b3', linewidth=2)\n",
    "\n",
    "## change color and linewidth of the medians\n",
    "for median in bp['medians']:\n",
    "    median.set(color='#b2df8a', linewidth=2)\n",
    "\n",
    "## change the style of fliers and their fill\n",
    "for flier in bp['fliers']:\n",
    "    flier.set(marker='o', color='#e7298a', alpha=0.5)\n",
    "    \n",
    "ax.set_xticklabels(['5*6', '16*19', '27*32', '38*46', '49*59', '60*72'])\n",
    "ax.get_xaxis().tick_bottom()\n",
    "ax.get_yaxis().tick_left()\n",
    "ax.set_xlabel('Stride')\n",
    "ax.set_ylabel('AUPRC for Background')\n",
    "ax.set_title('Boxplots of Background AUPRC for each Stride')\n",
    "    \n",
    "# Save the figure\n",
    "fig.show()\n",
    "fig.savefig(boxplots_path + 'boxplots_background_AUPRC.png', bbox_inches='tight')"
   ]
  },
  {
   "cell_type": "markdown",
   "metadata": {},
   "source": [
    "## AUPRC Vein:"
   ]
  },
  {
   "cell_type": "code",
   "execution_count": 34,
   "metadata": {},
   "outputs": [],
   "source": [
    "collectn_1 = np.array([0.87697214, 0.88371471, 0.88225267, 0.87786803, 0.8824195, 0.87695819, 0.87434488,\n",
    "                       0.87948152, 0.87685841, 0.8760828, 0.87655742, 0.88005459, 0.8720637, 0.87683335,\n",
    "                       0.87431007, 0.87290239, 0.87519448, 0.87493685, 0.87462797, 0.870713,\n",
    "                      ])\n",
    "\n",
    "collectn_2 = np.array([0.87572664, 0.88068217, 0.87886561, 0.87388157, 0.87906114, 0.87417048, 0.87059118,\n",
    "                       0.87612977, 0.87344649, 0.87273803, 0.87446064, 0.87805464, 0.87065691, 0.87365046,\n",
    "                       0.86936923, 0.87128158, 0.87166093, 0.87226846, 0.8712892, 0.86722467,\n",
    "                      ])\n",
    "\n",
    "collectn_3 = np.array([0.87236968, 0.87830856, 0.87699073, 0.87226892, 0.87571211, 0.87240892, 0.86981915,\n",
    "                       0.87410149, 0.87101297, 0.87196071, 0.87095556, 0.87537368, 0.86920518, 0.8708891,\n",
    "                       0.86585796, 0.86892279, 0.87050468, 0.8697895, 0.87042407, 0.86527172,\n",
    "                      ])\n",
    "\n",
    "collectn_4 = np.array([0.87086648, 0.87622104, 0.87409854, 0.87042697, 0.87452566, 0.87081336, 0.86742588,\n",
    "                       0.87184926, 0.87010427, 0.87161034, 0.86902987, 0.87426528, 0.86813616, 0.86999188,\n",
    "                       0.86556219, 0.86791524, 0.86748724, 0.86778044, 0.86832232, 0.86316883,\n",
    "                      ])\n",
    "\n",
    "collectn_5 = np.array([0.86580148, 0.87135073, 0.86990294, 0.8677225, 0.87117858, 0.86594127, 0.86312435,\n",
    "                       0.86766628, 0.86588571, 0.8659758, 0.86554959, 0.86810088, 0.86405156, 0.86499941,\n",
    "                       0.86081099, 0.86399979, 0.86383813, 0.86468022, 0.86254699, 0.85890939,\n",
    "                      ])\n",
    "\n",
    "collectn_6 = np.array([0.86061333, 0.86787922, 0.86648561, 0.85922075, 0.86239591, 0.86029214, 0.85641371,\n",
    "                       0.86442023, 0.85810791, 0.85988229, 0.8588828, 0.86233867, 0.85576339, 0.85889409,\n",
    "                       0.85309234, 0.85533782, 0.85790665, 0.85769421, 0.856346, 0.85260409,\n",
    "                      ])\n",
    "\n",
    "## combine these different collections into a list    \n",
    "data_to_plot = [collectn_1, collectn_2, collectn_3, collectn_4, collectn_5, collectn_6]"
   ]
  },
  {
   "cell_type": "code",
   "execution_count": 35,
   "metadata": {},
   "outputs": [
    {
     "name": "stdout",
     "output_type": "stream",
     "text": [
      "Mean and std of AUPRC of Vein for patch size 5*6 are: 0.87676 and 0.00336\n",
      "Mean and std of AUPRC of Vein for patch size 16*19 are: 0.87376 and 0.00341\n",
      "Mean and std of AUPRC of Vein for patch size 27*32 are: 0.87161 and 0.00324\n",
      "Mean and std of AUPRC of Vein for patch size 38*46 are: 0.86998 and 0.00314\n",
      "Mean and std of AUPRC of Vein for patch size 49*59 are: 0.8656 and 0.00309\n",
      "Mean and std of AUPRC of Vein for patch size 60*72 are: 0.85923 and 0.00393\n"
     ]
    }
   ],
   "source": [
    "mean_1, std_1 = np.mean(collectn_1), np.std(collectn_1)\n",
    "print (\"Mean and std of AUPRC of Vein for patch size 5*6 are: {} and {}\".format(round(mean_1,5), round(std_1,5)))\n",
    "\n",
    "mean_2, std_2 = np.mean(collectn_2), np.std(collectn_2)\n",
    "print (\"Mean and std of AUPRC of Vein for patch size 16*19 are: {} and {}\".format(round(mean_2,5), round(std_2,5)))\n",
    "\n",
    "mean_3, std_3 = np.mean(collectn_3), np.std(collectn_3)\n",
    "print (\"Mean and std of AUPRC of Vein for patch size 27*32 are: {} and {}\".format(round(mean_3,5), round(std_3,5)))\n",
    "\n",
    "mean_4, std_4 = np.mean(collectn_4), np.std(collectn_4)\n",
    "print (\"Mean and std of AUPRC of Vein for patch size 38*46 are: {} and {}\".format(round(mean_4,5), round(std_4,5)))\n",
    "\n",
    "mean_5, std_5 = np.mean(collectn_5), np.std(collectn_5)\n",
    "print (\"Mean and std of AUPRC of Vein for patch size 49*59 are: {} and {}\".format(round(mean_5,5), round(std_5,5)))\n",
    "\n",
    "mean_6, std_6 = np.mean(collectn_6), np.std(collectn_6)\n",
    "print (\"Mean and std of AUPRC of Vein for patch size 60*72 are: {} and {}\".format(round(mean_6,5), round(std_6,5)))"
   ]
  },
  {
   "cell_type": "code",
   "execution_count": 36,
   "metadata": {},
   "outputs": [
    {
     "data": {
      "image/png": "[encoded data removed]",
      "text/plain": [
       "<Figure size 648x432 with 1 Axes>"
      ]
     },
     "metadata": {
      "needs_background": "light"
     },
     "output_type": "display_data"
    }
   ],
   "source": [
    "fig = plt.figure(1, figsize=(9, 6))\n",
    "\n",
    "# Create an axes instance\n",
    "ax = fig.add_subplot(111)\n",
    "\n",
    "# Create the boxplot\n",
    "bp = ax.boxplot(data_to_plot)\n",
    "\n",
    "## add patch_artist=True option to ax.boxplot() \n",
    "## to get fill color\n",
    "bp = ax.boxplot(data_to_plot, patch_artist=True)\n",
    "\n",
    "## change outline color, fill color and linewidth of the boxes\n",
    "for box in bp['boxes']:\n",
    "    # change outline color\n",
    "    box.set( color='#7570b3', linewidth=2)\n",
    "    # change fill color\n",
    "    box.set( facecolor = '#1b9e77' )\n",
    "\n",
    "## change color and linewidth of the whiskers\n",
    "for whisker in bp['whiskers']:\n",
    "    whisker.set(color='#7570b3', linewidth=2)\n",
    "\n",
    "## change color and linewidth of the caps\n",
    "for cap in bp['caps']:\n",
    "    cap.set(color='#7570b3', linewidth=2)\n",
    "\n",
    "## change color and linewidth of the medians\n",
    "for median in bp['medians']:\n",
    "    median.set(color='#b2df8a', linewidth=2)\n",
    "\n",
    "## change the style of fliers and their fill\n",
    "for flier in bp['fliers']:\n",
    "    flier.set(marker='o', color='#e7298a', alpha=0.5)\n",
    "    \n",
    "ax.set_xticklabels(['5*6', '16*19', '27*32', '38*46', '49*59', '60*72'])\n",
    "ax.get_xaxis().tick_bottom()\n",
    "ax.get_yaxis().tick_left()\n",
    "ax.set_xlabel('Stride')\n",
    "ax.set_ylabel('AUPRC for Vein')\n",
    "ax.set_title('Boxplots of Vein AUPRC for each Stride')\n",
    "\n",
    "# Save the figure\n",
    "fig.show()\n",
    "fig.savefig(boxplots_path + 'boxplots_vein_AUPRC.png', bbox_inches='tight')"
   ]
  },
  {
   "cell_type": "markdown",
   "metadata": {},
   "source": [
    "## Test Accuracy:"
   ]
  },
  {
   "cell_type": "code",
   "execution_count": 3,
   "metadata": {},
   "outputs": [],
   "source": [
    "collectn_1 = np.array([0.97869225, 0.97886388, 0.9789551, 0.97843353, 0.97893336, 0.97854137, 0.97801511,\n",
    "                       0.97871158, 0.9784287, 0.97785442, 0.97849235, 0.97851224, 0.97817097, 0.97844376,\n",
    "                       0.97789563, 0.97820621, 0.97821232, 0.97798883, 0.97828762, 0.97802705,\n",
    "                      ])\n",
    "\n",
    "collectn_2 = np.array([0.97856254, 0.97860161, 0.97866767, 0.97808246, 0.97868643, 0.97824471, 0.97767228,\n",
    "                       0.9783453, 0.97815023, 0.9775106, 0.97842018, 0.9782933, 0.97803074, 0.97809951,\n",
    "                       0.97747778, 0.9780566, 0.97795743, 0.97763449, 0.97781961, 0.97765949,\n",
    "                      ])\n",
    "\n",
    "collectn_3 = np.array([0.97852403, 0.97852702, 0.97866838, 0.977958, 0.97852673, 0.97814241, 0.97765338,\n",
    "                       0.97834743, 0.9780853, 0.9774343, 0.97830921, 0.97826147, 0.97790273, 0.97805148,\n",
    "                       0.97733158, 0.97794081, 0.97784689, 0.9775177, 0.97781478, 0.97762582,\n",
    "                      ])\n",
    "\n",
    "collectn_4 = np.array([0.97825139, 0.97831802, 0.97830666, 0.97774787, 0.97840682, 0.9780117, 0.97740759,\n",
    "                       0.97807436, 0.97791921, 0.97732149, 0.97802762, 0.97802094, 0.97777941, 0.97787389,\n",
    "                       0.97720911, 0.97777273, 0.97770311, 0.97738216, 0.97755208, 0.97740873,\n",
    "                      ])\n",
    "\n",
    "collectn_5 = np.array([0.97811769, 0.97815662, 0.97824897, 0.97771988, 0.97818078, 0.97786266, 0.97729492,\n",
    "                       0.97790586, 0.97779887, 0.97708266, 0.97792759, 0.97773906, 0.97761218, 0.97772144,\n",
    "                       0.97709459, 0.97762156, 0.97759968, 0.97732646, 0.97737676, 0.97720897,\n",
    "                      ])\n",
    "\n",
    "collectn_6 = np.array([0.97726111, 0.97740418, 0.9773877, 0.97659491, 0.97709005, 0.97682863, 0.9764838,\n",
    "                       0.97718936, 0.97670218, 0.97630166, 0.9768856, 0.97687722, 0.97662205, 0.97683928,\n",
    "                       0.97596551, 0.97658866, 0.97673969, 0.97620917, 0.97646633, 0.97637128,\n",
    "                      ])\n",
    "\n",
    "## combine these different collections into a list\n",
    "data_to_plot = [collectn_1, collectn_2, collectn_3, collectn_4, collectn_5, collectn_6]"
   ]
  },
  {
   "cell_type": "code",
   "execution_count": 4,
   "metadata": {},
   "outputs": [
    {
     "name": "stdout",
     "output_type": "stream",
     "text": [
      "Mean and std of Test Accuracy for patch size 5*6 are: 0.97838 and 0.00033\n",
      "Mean and std of Test Accuracy for patch size 16*19 are: 0.9781 and 0.000373\n",
      "Mean and std of Test Accuracy for patch size 27*32 are: 0.97802 and 0.000382\n",
      "Mean and std of Test Accuracy for patch size 38*46 are: 0.97782 and 0.000351\n",
      "Mean and std of Test Accuracy for patch size 49*59 are: 0.97768 and 0.000351\n",
      "Mean and std of Test Accuracy for patch size 60*72 are: 0.97674 and 0.000382\n"
     ]
    }
   ],
   "source": [
    "mean_1, std_1 = np.mean(collectn_1), np.std(collectn_1)\n",
    "print (\"Mean and std of Test Accuracy for patch size 5*6 are: {} and {}\".format(round(mean_1,5), round(std_1,6)))\n",
    "\n",
    "mean_2, std_2 = np.mean(collectn_2), np.std(collectn_2)\n",
    "print (\"Mean and std of Test Accuracy for patch size 16*19 are: {} and {}\".format(round(mean_2,5), round(std_2,6)))\n",
    "\n",
    "mean_3, std_3 = np.mean(collectn_3), np.std(collectn_3)\n",
    "print (\"Mean and std of Test Accuracy for patch size 27*32 are: {} and {}\".format(round(mean_3,5), round(std_3,6)))\n",
    "\n",
    "mean_4, std_4 = np.mean(collectn_4), np.std(collectn_4)\n",
    "print (\"Mean and std of Test Accuracy for patch size 38*46 are: {} and {}\".format(round(mean_4,5), round(std_4,6)))\n",
    "\n",
    "mean_5, std_5 = np.mean(collectn_5), np.std(collectn_5)\n",
    "print (\"Mean and std of Test Accuracy for patch size 49*59 are: {} and {}\".format(round(mean_5,5), round(std_5,6)))\n",
    "\n",
    "mean_6, std_6 = np.mean(collectn_6), np.std(collectn_6)\n",
    "print (\"Mean and std of Test Accuracy for patch size 60*72 are: {} and {}\".format(round(mean_6,5), round(std_6,6)))"
   ]
  },
  {
   "cell_type": "code",
   "execution_count": 5,
   "metadata": {},
   "outputs": [
    {
     "name": "stderr",
     "output_type": "stream",
     "text": [
      "/anaconda3/envs/seg/lib/python2.7/site-packages/matplotlib/figure.py:457: UserWarning: matplotlib is currently using a non-GUI backend, so cannot show the figure\n",
      "  \"matplotlib is currently using a non-GUI backend, \"\n"
     ]
    },
    {
     "data": {
      "image/png": "[encoded data removed]",
      "text/plain": [
       "<Figure size 648x432 with 1 Axes>"
      ]
     },
     "metadata": {
      "needs_background": "light"
     },
     "output_type": "display_data"
    }
   ],
   "source": [
    "fig = plt.figure(1, figsize=(9, 6))\n",
    "\n",
    "# Create an axes instance\n",
    "ax = fig.add_subplot(111)\n",
    "\n",
    "# Create the boxplot\n",
    "bp = ax.boxplot(data_to_plot)\n",
    "\n",
    "## add patch_artist=True option to ax.boxplot() \n",
    "## to get fill color\n",
    "bp = ax.boxplot(data_to_plot, patch_artist=True)\n",
    "\n",
    "## change outline color, fill color and linewidth of the boxes\n",
    "for box in bp['boxes']:\n",
    "    # change outline color\n",
    "    box.set( color='#7570b3', linewidth=2)\n",
    "    # change fill color\n",
    "    box.set( facecolor = '#1b9e77' )\n",
    "\n",
    "## change color and linewidth of the whiskers\n",
    "for whisker in bp['whiskers']:\n",
    "    whisker.set(color='#7570b3', linewidth=2)\n",
    "\n",
    "## change color and linewidth of the caps\n",
    "for cap in bp['caps']:\n",
    "    cap.set(color='#7570b3', linewidth=2)\n",
    "\n",
    "## change color and linewidth of the medians\n",
    "for median in bp['medians']:\n",
    "    median.set(color='#b2df8a', linewidth=2)\n",
    "\n",
    "## change the style of fliers and their fill\n",
    "for flier in bp['fliers']:\n",
    "    flier.set(marker='o', color='#e7298a', alpha=0.5)\n",
    "    \n",
    "ax.set_xticklabels(['5*6', '16*19', '27*32', '38*46', '49*59', '60*72'])\n",
    "ax.get_xaxis().tick_bottom()\n",
    "ax.get_yaxis().tick_left()\n",
    "ax.set_xlabel('Stride')\n",
    "ax.set_ylabel('Test Accuracy')\n",
    "ax.set_title('Boxplots of Test Accuracy for each Stride')\n",
    "    \n",
    "# Save the figure\n",
    "fig.show()\n",
    "fig.savefig(boxplots_path + 'boxplots_test_acc.png', bbox_inches='tight')"
   ]
  }
 ],
 "metadata": {
  "kernelspec": {
   "display_name": "Python 2",
   "language": "python",
   "name": "python2"
  },
  "language_info": {
   "codemirror_mode": {
    "name": "ipython",
    "version": 2
   },
   "file_extension": ".py",
   "mimetype": "text/x-python",
   "name": "python",
   "nbconvert_exporter": "python",
   "pygments_lexer": "ipython2",
   "version": "2.7.16"
  }
 },
 "nbformat": 4,
 "nbformat_minor": 2
}
